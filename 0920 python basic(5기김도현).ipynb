{
 "cells": [
  {
   "cell_type": "code",
   "execution_count": 1,
   "id": "cae6f7fa",
   "metadata": {},
   "outputs": [
    {
     "name": "stdout",
     "output_type": "stream",
     "text": [
      "파이썬\n",
      "이스케\n",
      "이프문\n",
      "자실습\n"
     ]
    }
   ],
   "source": [
    "print('''파이썬\n",
    "이스케\n",
    "이프문\n",
    "자실습''') #따옴표 한개는 인식안된덩"
   ]
  },
  {
   "cell_type": "code",
   "execution_count": 6,
   "id": "0bf87586",
   "metadata": {},
   "outputs": [
    {
     "data": {
      "text/plain": [
       "'파이썬오늘은문자열을배웠고그지식을이용해서문자열수정을해봅시다파이썬'"
      ]
     },
     "execution_count": 6,
     "metadata": {},
     "output_type": "execute_result"
    }
   ],
   "source": [
    "txt ='파이썬오늘은\\t문자열을\\t배웠고,\\t그\\t지식을\\t이용해서\\t문자열\\t수정을\\t해\\t봅시다.\\n파이썬'\n",
    "import re\n",
    "txt_txt = ''.join(re.findall('[가-힣]+', txt))\n",
    "txt_txt"
   ]
  },
  {
   "cell_type": "code",
   "execution_count": 9,
   "id": "8b5396b3",
   "metadata": {},
   "outputs": [
    {
     "name": "stdout",
     "output_type": "stream",
     "text": [
      "파이썬오늘은\t문자열을\t배웠고\n",
      "\t그\t지식을\t이용해서\t문자열\t수정을\t해\t봅시다.\n",
      "파이썬\n"
     ]
    }
   ],
   "source": [
    "txt2 = txt.split(',')\n",
    "for i in txt2:\n",
    "    print(i)"
   ]
  },
  {
   "cell_type": "code",
   "execution_count": 13,
   "id": "6bd3b57a",
   "metadata": {},
   "outputs": [
    {
     "name": "stdout",
     "output_type": "stream",
     "text": [
      "오늘은\t문자열을\t배웠고,\t그\t지식을\t이용해서\t문자열\t수정을\t해\t봅시다.\n",
      "\n"
     ]
    }
   ],
   "source": [
    "txt3 = txt.replace('파이썬', '')\n",
    "print(txt3)"
   ]
  },
  {
   "cell_type": "code",
   "execution_count": 18,
   "id": "97486f33",
   "metadata": {},
   "outputs": [
    {
     "name": "stdout",
     "output_type": "stream",
     "text": [
      "오늘은% 문자열을% 배웠고,% 그% 지식을% 이용해서% 문자열% 수정을% 해% 봅시다.\n",
      "\n"
     ]
    }
   ],
   "source": [
    "txt0 = txt.replace(\"파이썬\", '')\n",
    "txt0 = txt0.replace(\"\\t\", '% ')\n",
    "txt0 = txt0.replace(', %', ', % \\n')\n",
    "print(txt0)\n"
   ]
  },
  {
   "cell_type": "code",
   "execution_count": 22,
   "id": "cc04abbc",
   "metadata": {},
   "outputs": [
    {
     "name": "stdout",
     "output_type": "stream",
     "text": [
      "hello\n",
      "1\n",
      "hello\n",
      "2\n",
      "hello\n",
      "3\n",
      "hello\n",
      "4\n",
      "hello\n",
      "5\n",
      "hello\n",
      "6\n",
      "hello\n",
      "7\n",
      "hello\n",
      "8\n",
      "hello\n",
      "9\n",
      "hello\n",
      "10\n",
      "hello\n"
     ]
    }
   ],
   "source": [
    "for i in range(1,11):\n",
    "    print('hello')\n",
    "    print(i)\n",
    "print('hello')"
   ]
  },
  {
   "cell_type": "code",
   "execution_count": 35,
   "id": "aaa44b65",
   "metadata": {},
   "outputs": [
    {
     "name": "stdout",
     "output_type": "stream",
     "text": [
      "1\n",
      "1.5\n",
      "2\n",
      "2.5\n",
      "3\n",
      "3.5\n",
      "4\n",
      "4.5\n",
      "5\n",
      "5.5\n",
      "6\n",
      "6.5\n",
      "7\n",
      "7.5\n",
      "8\n",
      "8.5\n",
      "9\n",
      "9.5\n",
      "10\n",
      "10.5\n"
     ]
    }
   ],
   "source": [
    "#실습 1부터 10까지 숫자를 세는 프로그램을 만듯ㅂ니다\n",
    "\n",
    "#단 숫자는 0.5 단위로 셉니다.\n",
    "\n",
    "for i in range(1, 11):\n",
    "    print(i)\n",
    "    print(i+0.5)\n"
   ]
  },
  {
   "cell_type": "code",
   "execution_count": null,
   "id": "816c5aab",
   "metadata": {},
   "outputs": [],
   "source": []
  },
  {
   "cell_type": "code",
   "execution_count": 40,
   "id": "539265ee",
   "metadata": {},
   "outputs": [
    {
     "name": "stdout",
     "output_type": "stream",
     "text": [
      "숫자를 입력해주세요8\n",
      "0\n",
      "2\n",
      "4\n",
      "6\n"
     ]
    }
   ],
   "source": [
    "a = int(input('숫자를 입력해주세요'))\n",
    "for i in range(0, a, 2):\n",
    "    print(i)"
   ]
  },
  {
   "cell_type": "code",
   "execution_count": 11,
   "id": "c5ee9ca5",
   "metadata": {},
   "outputs": [
    {
     "name": "stdout",
     "output_type": "stream",
     "text": [
      "숫자를 입력해주세요6\n",
      "720\n"
     ]
    }
   ],
   "source": [
    "a = int(input(\"숫자를 입력해주세요\"))\n",
    "result = 1\n",
    "for i in range(1, a+1):\n",
    "    result *= i\n",
    "print(result)"
   ]
  },
  {
   "cell_type": "code",
   "execution_count": null,
   "id": "d3cc17a1",
   "metadata": {},
   "outputs": [],
   "source": []
  },
  {
   "cell_type": "code",
   "execution_count": 3,
   "id": "4e81070e",
   "metadata": {},
   "outputs": [
    {
     "name": "stdout",
     "output_type": "stream",
     "text": [
      "8\n",
      "2\n",
      "4\n",
      "6\n",
      "8\n"
     ]
    }
   ],
   "source": [
    "a = int(input())\n",
    "i = 2\n",
    "while i < a+2:\n",
    "    if i % 2 == 0:\n",
    "        print(i)\n",
    "    i+=1\n",
    "    "
   ]
  },
  {
   "cell_type": "code",
   "execution_count": 9,
   "id": "b8d4ac6b",
   "metadata": {},
   "outputs": [
    {
     "name": "stdout",
     "output_type": "stream",
     "text": [
      "0\n",
      "1\n",
      "2\n",
      "3\n",
      "4\n",
      "5\n",
      "6\n",
      "7\n",
      "8\n",
      "9\n",
      "10\n",
      "11\n",
      "12\n",
      "13\n",
      "14\n",
      "15\n",
      "16\n",
      "17\n",
      "18\n",
      "19\n"
     ]
    }
   ],
   "source": [
    "for abc in range(20):\n",
    "    print(abc)\n",
    "    continue\n",
    "    print(456)"
   ]
  },
  {
   "cell_type": "code",
   "execution_count": 10,
   "id": "5c854617",
   "metadata": {},
   "outputs": [
    {
     "name": "stdout",
     "output_type": "stream",
     "text": [
      "0\n"
     ]
    }
   ],
   "source": [
    "for a in range(100):\n",
    "    print(a)\n",
    "    break\n",
    "    print(5)\n",
    "#패스는 그냥 말그대로 코드 다 돌릴 수 있음\n",
    "#pass"
   ]
  },
  {
   "cell_type": "code",
   "execution_count": 13,
   "id": "9c7d8ab8",
   "metadata": {},
   "outputs": [
    {
     "name": "stdout",
     "output_type": "stream",
     "text": [
      "0 0\n",
      "0 1\n",
      "0 2\n",
      "0 3\n",
      "0 4\n",
      "1 0\n",
      "1 1\n",
      "1 2\n",
      "1 3\n",
      "1 4\n",
      "2 0\n",
      "2 1\n",
      "2 2\n",
      "2 3\n",
      "2 4\n",
      "3 0\n",
      "3 1\n",
      "3 2\n",
      "3 3\n",
      "3 4\n",
      "4 0\n",
      "4 1\n",
      "4 2\n",
      "4 3\n",
      "4 4\n"
     ]
    }
   ],
   "source": [
    "for i in range(5):\n",
    "    for j in range(5):\n",
    "        print(i,j)\n",
    "        "
   ]
  },
  {
   "cell_type": "code",
   "execution_count": 57,
   "id": "cb91708f",
   "metadata": {},
   "outputs": [
    {
     "name": "stdout",
     "output_type": "stream",
     "text": [
      "123\n",
      "456\n",
      "789\n"
     ]
    }
   ],
   "source": [
    "list1 = [[1,2,3],[4,5,6],[7,8,9]]\n",
    "for i in list1:\n",
    "    for j in i:\n",
    "        print(j, end= '')\n",
    "    print()"
   ]
  },
  {
   "cell_type": "code",
   "execution_count": 59,
   "id": "f8e8fc92",
   "metadata": {},
   "outputs": [
    {
     "name": "stdout",
     "output_type": "stream",
     "text": [
      "1 2 3 4 5 6 7 8 9 "
     ]
    }
   ],
   "source": [
    "list1 = [[1,2,3],[4,5,6],[7,8,9]]\n",
    "for i in list1:\n",
    "    for j in i:\n",
    "        print(j, end= ' ')"
   ]
  },
  {
   "cell_type": "code",
   "execution_count": null,
   "id": "6db163cb",
   "metadata": {},
   "outputs": [],
   "source": []
  },
  {
   "cell_type": "code",
   "execution_count": 20,
   "id": "c98a8ded",
   "metadata": {},
   "outputs": [
    {
     "name": "stdout",
     "output_type": "stream",
     "text": [
      "[1, 2, 3][4, 5, 6][7, 8, 9]"
     ]
    }
   ],
   "source": [
    "list1 = [[1,2,3],[4,5,6],[7,8,9]]\n",
    "for i in list1:\n",
    "    print(i, end='')"
   ]
  },
  {
   "cell_type": "code",
   "execution_count": 27,
   "id": "1772226a",
   "metadata": {},
   "outputs": [
    {
     "name": "stdout",
     "output_type": "stream",
     "text": [
      "01234"
     ]
    }
   ],
   "source": [
    "for i in range(5):\n",
    "    print(i,end='')"
   ]
  },
  {
   "cell_type": "code",
   "execution_count": 53,
   "id": "cb3aa7cd",
   "metadata": {},
   "outputs": [
    {
     "name": "stdout",
     "output_type": "stream",
     "text": [
      "*\n",
      "**\n",
      "***\n",
      "****\n",
      "*****\n"
     ]
    }
   ],
   "source": [
    "for i in range(5):\n",
    "    for j in range(5):\n",
    "        if j <= i :\n",
    "            print('*', end='')\n",
    "    print()\n",
    "        "
   ]
  },
  {
   "cell_type": "code",
   "execution_count": 50,
   "id": "8b567fca",
   "metadata": {},
   "outputs": [
    {
     "name": "stdout",
     "output_type": "stream",
     "text": [
      "*         \n",
      " *        \n",
      "  *       \n",
      "   *      \n",
      "    *     \n",
      "     *    \n",
      "      *   \n",
      "       *  \n",
      "        * \n",
      "         *\n"
     ]
    }
   ],
   "source": [
    "for i in range(10):         \n",
    "    for j in range(10):    \n",
    "        if j == i:                 \n",
    "            print('*', end='')\n",
    "        else:\n",
    "            print(' ', end='')\n",
    "    print()"
   ]
  },
  {
   "cell_type": "code",
   "execution_count": 24,
   "id": "02036b04",
   "metadata": {},
   "outputs": [
    {
     "name": "stdout",
     "output_type": "stream",
     "text": [
      "4\n"
     ]
    },
    {
     "data": {
      "text/plain": [
       "24"
      ]
     },
     "execution_count": 24,
     "metadata": {},
     "output_type": "execute_result"
    }
   ],
   "source": [
    "def f_factorial(n):\n",
    "    if n>1:\n",
    "        return n * f_factorial(n-1)\n",
    "    else:\n",
    "        return 1\n",
    "a = int(input())\n",
    "f_factorial(a)\n"
   ]
  },
  {
   "cell_type": "markdown",
   "id": "10a2e3a7",
   "metadata": {},
   "source": [
    "######\n",
    "NUMPY\n",
    "파이썬의 배열 연산 패키지\n",
    "ndarray 객체 지원\n",
    "배열\n",
    "\n"
   ]
  },
  {
   "cell_type": "markdown",
   "id": "b803c497",
   "metadata": {},
   "source": [
    "# Numpy"
   ]
  },
  {
   "cell_type": "code",
   "execution_count": 27,
   "id": "5203fdc2",
   "metadata": {},
   "outputs": [
    {
     "name": "stdout",
     "output_type": "stream",
     "text": [
      "[1 2 3 4 5]\n"
     ]
    },
    {
     "data": {
      "text/plain": [
       "array([2, 3, 4, 5, 6])"
      ]
     },
     "execution_count": 27,
     "metadata": {},
     "output_type": "execute_result"
    }
   ],
   "source": [
    "import numpy as np\n",
    "arr = np.array([1,2,3,4,5])\n",
    "print(arr)\n",
    "arr+1"
   ]
  },
  {
   "cell_type": "code",
   "execution_count": 36,
   "id": "639395bf",
   "metadata": {},
   "outputs": [
    {
     "data": {
      "text/plain": [
       "[1, 2, 3, 4, 5, 6, 7, 8, 9]"
      ]
     },
     "execution_count": 36,
     "metadata": {},
     "output_type": "execute_result"
    }
   ],
   "source": [
    "list1 = [1,2,3,4,5,6,7,8,9]\n",
    "list1"
   ]
  },
  {
   "cell_type": "code",
   "execution_count": 37,
   "id": "35e20e29",
   "metadata": {},
   "outputs": [
    {
     "data": {
      "text/plain": [
       "5"
      ]
     },
     "execution_count": 37,
     "metadata": {},
     "output_type": "execute_result"
    }
   ],
   "source": [
    "arr[4]\n",
    "#참고로 인덱스는 0부터임"
   ]
  },
  {
   "cell_type": "code",
   "execution_count": 38,
   "id": "507a3092",
   "metadata": {},
   "outputs": [
    {
     "data": {
      "text/plain": [
       "[5, 6, 7, 8]"
      ]
     },
     "execution_count": 38,
     "metadata": {},
     "output_type": "execute_result"
    }
   ],
   "source": [
    "list1[4:8]"
   ]
  },
  {
   "cell_type": "code",
   "execution_count": 39,
   "id": "020d4e87",
   "metadata": {},
   "outputs": [
    {
     "data": {
      "text/plain": [
       "[8, 9]"
      ]
     },
     "execution_count": 39,
     "metadata": {},
     "output_type": "execute_result"
    }
   ],
   "source": [
    "list1[-2:]"
   ]
  },
  {
   "cell_type": "code",
   "execution_count": 40,
   "id": "a7e09577",
   "metadata": {},
   "outputs": [
    {
     "data": {
      "text/plain": [
       "[1, 2, 3, 4, 5, 6, 7]"
      ]
     },
     "execution_count": 40,
     "metadata": {},
     "output_type": "execute_result"
    }
   ],
   "source": [
    "list1[:-2]"
   ]
  },
  {
   "cell_type": "code",
   "execution_count": 43,
   "id": "4cffaba2",
   "metadata": {},
   "outputs": [
    {
     "data": {
      "text/plain": [
       "[1, 4, 7]"
      ]
     },
     "execution_count": 43,
     "metadata": {},
     "output_type": "execute_result"
    }
   ],
   "source": [
    "list1[::3]"
   ]
  },
  {
   "cell_type": "code",
   "execution_count": 46,
   "id": "8027d814",
   "metadata": {},
   "outputs": [
    {
     "data": {
      "text/plain": [
       "[4, 5, 6, 7, 8]"
      ]
     },
     "execution_count": 46,
     "metadata": {},
     "output_type": "execute_result"
    }
   ],
   "source": [
    "list1[-6:-1]"
   ]
  },
  {
   "cell_type": "code",
   "execution_count": 49,
   "id": "eaab6097",
   "metadata": {},
   "outputs": [
    {
     "data": {
      "text/plain": [
       "{'key': 'value', 'key2': 'value2'}"
      ]
     },
     "execution_count": 49,
     "metadata": {},
     "output_type": "execute_result"
    }
   ],
   "source": [
    "dict = {'key':'value', 'key2':'value2'}\n",
    "dict"
   ]
  },
  {
   "cell_type": "code",
   "execution_count": 57,
   "id": "674550d1",
   "metadata": {},
   "outputs": [
    {
     "ename": "TypeError",
     "evalue": "unhashable type: 'slice'",
     "output_type": "error",
     "traceback": [
      "\u001b[1;31m---------------------------------------------------------------------------\u001b[0m",
      "\u001b[1;31mTypeError\u001b[0m                                 Traceback (most recent call last)",
      "Cell \u001b[1;32mIn[57], line 1\u001b[0m\n\u001b[1;32m----> 1\u001b[0m \u001b[38;5;28mdict\u001b[39m[\u001b[38;5;124m'\u001b[39m\u001b[38;5;124mkey\u001b[39m\u001b[38;5;124m'\u001b[39m:]\n",
      "\u001b[1;31mTypeError\u001b[0m: unhashable type: 'slice'"
     ]
    }
   ],
   "source": [
    "#슬라이싱 안됩니다\n",
    "dict['key']"
   ]
  },
  {
   "cell_type": "code",
   "execution_count": 60,
   "id": "7d57d0a2",
   "metadata": {},
   "outputs": [],
   "source": [
    "arrray=np.array([1,2,3,4,5,6])"
   ]
  },
  {
   "cell_type": "code",
   "execution_count": 61,
   "id": "34063906",
   "metadata": {},
   "outputs": [
    {
     "data": {
      "text/plain": [
       "3"
      ]
     },
     "execution_count": 61,
     "metadata": {},
     "output_type": "execute_result"
    }
   ],
   "source": [
    "arrray[2]"
   ]
  },
  {
   "cell_type": "code",
   "execution_count": 62,
   "id": "d2830dd1",
   "metadata": {},
   "outputs": [
    {
     "data": {
      "text/plain": [
       "array([3, 4])"
      ]
     },
     "execution_count": 62,
     "metadata": {},
     "output_type": "execute_result"
    }
   ],
   "source": [
    "arrray[2:4]"
   ]
  },
  {
   "cell_type": "code",
   "execution_count": 63,
   "id": "748bd72f",
   "metadata": {},
   "outputs": [
    {
     "data": {
      "text/plain": [
       "array([4])"
      ]
     },
     "execution_count": 63,
     "metadata": {},
     "output_type": "execute_result"
    }
   ],
   "source": [
    "arrray[-3:4]"
   ]
  },
  {
   "cell_type": "code",
   "execution_count": 64,
   "id": "c427207e",
   "metadata": {},
   "outputs": [
    {
     "data": {
      "text/plain": [
       "array([ 6,  7,  8,  9, 10, 11])"
      ]
     },
     "execution_count": 64,
     "metadata": {},
     "output_type": "execute_result"
    }
   ],
   "source": [
    "arrray+5"
   ]
  },
  {
   "cell_type": "markdown",
   "id": "3db99c70",
   "metadata": {},
   "source": [
    "# numpy 파읽 read, write"
   ]
  },
  {
   "cell_type": "code",
   "execution_count": 65,
   "id": "8d2278a9",
   "metadata": {},
   "outputs": [],
   "source": [
    "np.save('./numpy_title_npy', arrray) #압축파일"
   ]
  },
  {
   "cell_type": "code",
   "execution_count": 66,
   "id": "8de42301",
   "metadata": {},
   "outputs": [],
   "source": [
    "np.savez('./numpy_title_npz', arrray) #비압축 파일"
   ]
  },
  {
   "cell_type": "code",
   "execution_count": 73,
   "id": "7e9a3125",
   "metadata": {},
   "outputs": [],
   "source": [
    "import pandas as pd\n"
   ]
  },
  {
   "cell_type": "code",
   "execution_count": 77,
   "id": "2c107a41",
   "metadata": {},
   "outputs": [
    {
     "data": {
      "text/html": [
       "<div>\n",
       "<style scoped>\n",
       "    .dataframe tbody tr th:only-of-type {\n",
       "        vertical-align: middle;\n",
       "    }\n",
       "\n",
       "    .dataframe tbody tr th {\n",
       "        vertical-align: top;\n",
       "    }\n",
       "\n",
       "    .dataframe thead th {\n",
       "        text-align: right;\n",
       "    }\n",
       "</style>\n",
       "<table border=\"1\" class=\"dataframe\">\n",
       "  <thead>\n",
       "    <tr style=\"text-align: right;\">\n",
       "      <th></th>\n",
       "      <th>df</th>\n",
       "    </tr>\n",
       "  </thead>\n",
       "  <tbody>\n",
       "    <tr>\n",
       "      <th>0</th>\n",
       "      <td>1</td>\n",
       "    </tr>\n",
       "    <tr>\n",
       "      <th>1</th>\n",
       "      <td>2</td>\n",
       "    </tr>\n",
       "    <tr>\n",
       "      <th>2</th>\n",
       "      <td>3</td>\n",
       "    </tr>\n",
       "    <tr>\n",
       "      <th>3</th>\n",
       "      <td>4</td>\n",
       "    </tr>\n",
       "    <tr>\n",
       "      <th>4</th>\n",
       "      <td>5</td>\n",
       "    </tr>\n",
       "  </tbody>\n",
       "</table>\n",
       "</div>"
      ],
      "text/plain": [
       "   df\n",
       "0   1\n",
       "1   2\n",
       "2   3\n",
       "3   4\n",
       "4   5"
      ]
     },
     "execution_count": 77,
     "metadata": {},
     "output_type": "execute_result"
    }
   ],
   "source": [
    "pd.DataFrame([1,2,3,4,5], columns = ['df'])\n",
    "#value, column, index"
   ]
  },
  {
   "cell_type": "code",
   "execution_count": 88,
   "id": "3461cd63",
   "metadata": {},
   "outputs": [],
   "source": [
    "df = pd.DataFrame([[1,2,3,4,5], [4,5,6,7,8], [7,8,9,0,1]], index=['a', 'b', 'c']).T"
   ]
  },
  {
   "cell_type": "code",
   "execution_count": 85,
   "id": "122913f6",
   "metadata": {},
   "outputs": [
    {
     "data": {
      "text/html": [
       "<div>\n",
       "<style scoped>\n",
       "    .dataframe tbody tr th:only-of-type {\n",
       "        vertical-align: middle;\n",
       "    }\n",
       "\n",
       "    .dataframe tbody tr th {\n",
       "        vertical-align: top;\n",
       "    }\n",
       "\n",
       "    .dataframe thead th {\n",
       "        text-align: right;\n",
       "    }\n",
       "</style>\n",
       "<table border=\"1\" class=\"dataframe\">\n",
       "  <thead>\n",
       "    <tr style=\"text-align: right;\">\n",
       "      <th></th>\n",
       "      <th>0</th>\n",
       "    </tr>\n",
       "  </thead>\n",
       "  <tbody>\n",
       "    <tr>\n",
       "      <th>0</th>\n",
       "      <td>1</td>\n",
       "    </tr>\n",
       "    <tr>\n",
       "      <th>1</th>\n",
       "      <td>2</td>\n",
       "    </tr>\n",
       "    <tr>\n",
       "      <th>2</th>\n",
       "      <td>3</td>\n",
       "    </tr>\n",
       "    <tr>\n",
       "      <th>3</th>\n",
       "      <td>4</td>\n",
       "    </tr>\n",
       "    <tr>\n",
       "      <th>4</th>\n",
       "      <td>5</td>\n",
       "    </tr>\n",
       "  </tbody>\n",
       "</table>\n",
       "</div>"
      ],
      "text/plain": [
       "   0\n",
       "0  1\n",
       "1  2\n",
       "2  3\n",
       "3  4\n",
       "4  5"
      ]
     },
     "execution_count": 85,
     "metadata": {},
     "output_type": "execute_result"
    }
   ],
   "source": [
    "pd.DataFrame([1,2,3,4,5])"
   ]
  },
  {
   "cell_type": "code",
   "execution_count": 89,
   "id": "0b530c86",
   "metadata": {},
   "outputs": [
    {
     "data": {
      "text/html": [
       "<div>\n",
       "<style scoped>\n",
       "    .dataframe tbody tr th:only-of-type {\n",
       "        vertical-align: middle;\n",
       "    }\n",
       "\n",
       "    .dataframe tbody tr th {\n",
       "        vertical-align: top;\n",
       "    }\n",
       "\n",
       "    .dataframe thead th {\n",
       "        text-align: right;\n",
       "    }\n",
       "</style>\n",
       "<table border=\"1\" class=\"dataframe\">\n",
       "  <thead>\n",
       "    <tr style=\"text-align: right;\">\n",
       "      <th></th>\n",
       "      <th>a</th>\n",
       "      <th>b</th>\n",
       "      <th>c</th>\n",
       "    </tr>\n",
       "  </thead>\n",
       "  <tbody>\n",
       "    <tr>\n",
       "      <th>0</th>\n",
       "      <td>1</td>\n",
       "      <td>4</td>\n",
       "      <td>7</td>\n",
       "    </tr>\n",
       "    <tr>\n",
       "      <th>1</th>\n",
       "      <td>2</td>\n",
       "      <td>5</td>\n",
       "      <td>8</td>\n",
       "    </tr>\n",
       "    <tr>\n",
       "      <th>2</th>\n",
       "      <td>3</td>\n",
       "      <td>6</td>\n",
       "      <td>9</td>\n",
       "    </tr>\n",
       "    <tr>\n",
       "      <th>3</th>\n",
       "      <td>4</td>\n",
       "      <td>7</td>\n",
       "      <td>0</td>\n",
       "    </tr>\n",
       "    <tr>\n",
       "      <th>4</th>\n",
       "      <td>5</td>\n",
       "      <td>8</td>\n",
       "      <td>1</td>\n",
       "    </tr>\n",
       "  </tbody>\n",
       "</table>\n",
       "</div>"
      ],
      "text/plain": [
       "   a  b  c\n",
       "0  1  4  7\n",
       "1  2  5  8\n",
       "2  3  6  9\n",
       "3  4  7  0\n",
       "4  5  8  1"
      ]
     },
     "execution_count": 89,
     "metadata": {},
     "output_type": "execute_result"
    }
   ],
   "source": [
    "df"
   ]
  },
  {
   "cell_type": "code",
   "execution_count": 92,
   "id": "af749f36",
   "metadata": {},
   "outputs": [
    {
     "data": {
      "text/plain": [
       "8"
      ]
     },
     "execution_count": 92,
     "metadata": {},
     "output_type": "execute_result"
    }
   ],
   "source": [
    "df.loc[4,'b']"
   ]
  },
  {
   "cell_type": "code",
   "execution_count": 93,
   "id": "e13d8c3b",
   "metadata": {},
   "outputs": [
    {
     "data": {
      "text/plain": [
       "a    4\n",
       "b    7\n",
       "c    0\n",
       "Name: 3, dtype: int64"
      ]
     },
     "execution_count": 93,
     "metadata": {},
     "output_type": "execute_result"
    }
   ],
   "source": [
    "df.loc[3]"
   ]
  },
  {
   "cell_type": "code",
   "execution_count": 97,
   "id": "491ddc00",
   "metadata": {},
   "outputs": [
    {
     "data": {
      "text/html": [
       "<div>\n",
       "<style scoped>\n",
       "    .dataframe tbody tr th:only-of-type {\n",
       "        vertical-align: middle;\n",
       "    }\n",
       "\n",
       "    .dataframe tbody tr th {\n",
       "        vertical-align: top;\n",
       "    }\n",
       "\n",
       "    .dataframe thead th {\n",
       "        text-align: right;\n",
       "    }\n",
       "</style>\n",
       "<table border=\"1\" class=\"dataframe\">\n",
       "  <thead>\n",
       "    <tr style=\"text-align: right;\">\n",
       "      <th></th>\n",
       "      <th>b</th>\n",
       "      <th>c</th>\n",
       "    </tr>\n",
       "  </thead>\n",
       "  <tbody>\n",
       "    <tr>\n",
       "      <th>0</th>\n",
       "      <td>4</td>\n",
       "      <td>7</td>\n",
       "    </tr>\n",
       "    <tr>\n",
       "      <th>1</th>\n",
       "      <td>5</td>\n",
       "      <td>8</td>\n",
       "    </tr>\n",
       "    <tr>\n",
       "      <th>2</th>\n",
       "      <td>6</td>\n",
       "      <td>9</td>\n",
       "    </tr>\n",
       "    <tr>\n",
       "      <th>3</th>\n",
       "      <td>7</td>\n",
       "      <td>0</td>\n",
       "    </tr>\n",
       "    <tr>\n",
       "      <th>4</th>\n",
       "      <td>8</td>\n",
       "      <td>1</td>\n",
       "    </tr>\n",
       "  </tbody>\n",
       "</table>\n",
       "</div>"
      ],
      "text/plain": [
       "   b  c\n",
       "0  4  7\n",
       "1  5  8\n",
       "2  6  9\n",
       "3  7  0\n",
       "4  8  1"
      ]
     },
     "execution_count": 97,
     "metadata": {},
     "output_type": "execute_result"
    }
   ],
   "source": [
    "df.loc[:,'b':'c']\n",
    "#이름기반 슬라이싱 location함수만 포함한덩 문자그대로까지 포함한다.\n"
   ]
  },
  {
   "cell_type": "code",
   "execution_count": 98,
   "id": "b1073435",
   "metadata": {},
   "outputs": [
    {
     "data": {
      "text/html": [
       "<div>\n",
       "<style scoped>\n",
       "    .dataframe tbody tr th:only-of-type {\n",
       "        vertical-align: middle;\n",
       "    }\n",
       "\n",
       "    .dataframe tbody tr th {\n",
       "        vertical-align: top;\n",
       "    }\n",
       "\n",
       "    .dataframe thead th {\n",
       "        text-align: right;\n",
       "    }\n",
       "</style>\n",
       "<table border=\"1\" class=\"dataframe\">\n",
       "  <thead>\n",
       "    <tr style=\"text-align: right;\">\n",
       "      <th></th>\n",
       "      <th>a</th>\n",
       "      <th>b</th>\n",
       "      <th>c</th>\n",
       "    </tr>\n",
       "  </thead>\n",
       "  <tbody>\n",
       "    <tr>\n",
       "      <th>2</th>\n",
       "      <td>3</td>\n",
       "      <td>6</td>\n",
       "      <td>9</td>\n",
       "    </tr>\n",
       "    <tr>\n",
       "      <th>3</th>\n",
       "      <td>4</td>\n",
       "      <td>7</td>\n",
       "      <td>0</td>\n",
       "    </tr>\n",
       "    <tr>\n",
       "      <th>4</th>\n",
       "      <td>5</td>\n",
       "      <td>8</td>\n",
       "      <td>1</td>\n",
       "    </tr>\n",
       "  </tbody>\n",
       "</table>\n",
       "</div>"
      ],
      "text/plain": [
       "   a  b  c\n",
       "2  3  6  9\n",
       "3  4  7  0\n",
       "4  5  8  1"
      ]
     },
     "execution_count": 98,
     "metadata": {},
     "output_type": "execute_result"
    }
   ],
   "source": [
    "df.loc[2:4]\n",
    "#대소관계를 비교할 수 없으므로 인덱스에 있는 것은 임의로 지정된 것"
   ]
  },
  {
   "cell_type": "code",
   "execution_count": 102,
   "id": "de9534d9",
   "metadata": {},
   "outputs": [
    {
     "data": {
      "text/plain": [
       "1    2\n",
       "2    3\n",
       "3    4\n",
       "Name: a, dtype: int64"
      ]
     },
     "execution_count": 102,
     "metadata": {},
     "output_type": "execute_result"
    }
   ],
   "source": [
    "df.iloc[1:4, 0]\n",
    "#얘는 범위 지정이 된다.\n",
    "#인덱스자체는 포지션의 넘버이기에, n-1이 적용된다. 따라서 1-3까지"
   ]
  },
  {
   "cell_type": "code",
   "execution_count": 103,
   "id": "62513e04",
   "metadata": {
    "scrolled": true
   },
   "outputs": [
    {
     "data": {
      "text/html": [
       "<div>\n",
       "<style scoped>\n",
       "    .dataframe tbody tr th:only-of-type {\n",
       "        vertical-align: middle;\n",
       "    }\n",
       "\n",
       "    .dataframe tbody tr th {\n",
       "        vertical-align: top;\n",
       "    }\n",
       "\n",
       "    .dataframe thead th {\n",
       "        text-align: right;\n",
       "    }\n",
       "</style>\n",
       "<table border=\"1\" class=\"dataframe\">\n",
       "  <thead>\n",
       "    <tr style=\"text-align: right;\">\n",
       "      <th></th>\n",
       "      <th>a</th>\n",
       "      <th>b</th>\n",
       "      <th>c</th>\n",
       "    </tr>\n",
       "  </thead>\n",
       "  <tbody>\n",
       "    <tr>\n",
       "      <th>1</th>\n",
       "      <td>52</td>\n",
       "      <td>55</td>\n",
       "      <td>58</td>\n",
       "    </tr>\n",
       "    <tr>\n",
       "      <th>2</th>\n",
       "      <td>53</td>\n",
       "      <td>56</td>\n",
       "      <td>59</td>\n",
       "    </tr>\n",
       "    <tr>\n",
       "      <th>3</th>\n",
       "      <td>54</td>\n",
       "      <td>57</td>\n",
       "      <td>50</td>\n",
       "    </tr>\n",
       "  </tbody>\n",
       "</table>\n",
       "</div>"
      ],
      "text/plain": [
       "    a   b   c\n",
       "1  52  55  58\n",
       "2  53  56  59\n",
       "3  54  57  50"
      ]
     },
     "execution_count": 103,
     "metadata": {},
     "output_type": "execute_result"
    }
   ],
   "source": [
    "df.iloc[1:4] + 50"
   ]
  },
  {
   "cell_type": "code",
   "execution_count": 109,
   "id": "947ee371",
   "metadata": {},
   "outputs": [],
   "source": [
    "df.to_excel('./result1.xlsx', index=False, header=False)"
   ]
  },
  {
   "cell_type": "code",
   "execution_count": 120,
   "id": "2b53ea8d",
   "metadata": {},
   "outputs": [
    {
     "data": {
      "text/html": [
       "<div>\n",
       "<style scoped>\n",
       "    .dataframe tbody tr th:only-of-type {\n",
       "        vertical-align: middle;\n",
       "    }\n",
       "\n",
       "    .dataframe tbody tr th {\n",
       "        vertical-align: top;\n",
       "    }\n",
       "\n",
       "    .dataframe thead th {\n",
       "        text-align: right;\n",
       "    }\n",
       "</style>\n",
       "<table border=\"1\" class=\"dataframe\">\n",
       "  <thead>\n",
       "    <tr style=\"text-align: right;\">\n",
       "      <th></th>\n",
       "      <th>8</th>\n",
       "      <th>1</th>\n",
       "    </tr>\n",
       "    <tr>\n",
       "      <th>5</th>\n",
       "      <th></th>\n",
       "      <th></th>\n",
       "    </tr>\n",
       "  </thead>\n",
       "  <tbody>\n",
       "  </tbody>\n",
       "</table>\n",
       "</div>"
      ],
      "text/plain": [
       "Empty DataFrame\n",
       "Columns: [8, 1]\n",
       "Index: []"
      ]
     },
     "execution_count": 120,
     "metadata": {},
     "output_type": "execute_result"
    }
   ],
   "source": [
    "pd.read_excel('./result1.xlsx', index_col=0, header=4)"
   ]
  },
  {
   "cell_type": "code",
   "execution_count": 121,
   "id": "a50f3f59",
   "metadata": {},
   "outputs": [],
   "source": [
    "df.to_csv('./result3.csv')"
   ]
  },
  {
   "cell_type": "code",
   "execution_count": 126,
   "id": "868563ea",
   "metadata": {},
   "outputs": [
    {
     "data": {
      "text/html": [
       "<div>\n",
       "<style scoped>\n",
       "    .dataframe tbody tr th:only-of-type {\n",
       "        vertical-align: middle;\n",
       "    }\n",
       "\n",
       "    .dataframe tbody tr th {\n",
       "        vertical-align: top;\n",
       "    }\n",
       "\n",
       "    .dataframe thead th {\n",
       "        text-align: right;\n",
       "    }\n",
       "</style>\n",
       "<table border=\"1\" class=\"dataframe\">\n",
       "  <thead>\n",
       "    <tr style=\"text-align: right;\">\n",
       "      <th></th>\n",
       "      <th>a</th>\n",
       "      <th>b</th>\n",
       "      <th>c</th>\n",
       "    </tr>\n",
       "  </thead>\n",
       "  <tbody>\n",
       "    <tr>\n",
       "      <th>0</th>\n",
       "      <td>1</td>\n",
       "      <td>4</td>\n",
       "      <td>7</td>\n",
       "    </tr>\n",
       "    <tr>\n",
       "      <th>1</th>\n",
       "      <td>2</td>\n",
       "      <td>5</td>\n",
       "      <td>8</td>\n",
       "    </tr>\n",
       "    <tr>\n",
       "      <th>2</th>\n",
       "      <td>3</td>\n",
       "      <td>6</td>\n",
       "      <td>9</td>\n",
       "    </tr>\n",
       "  </tbody>\n",
       "</table>\n",
       "</div>"
      ],
      "text/plain": [
       "   a  b  c\n",
       "0  1  4  7\n",
       "1  2  5  8\n",
       "2  3  6  9"
      ]
     },
     "execution_count": 126,
     "metadata": {},
     "output_type": "execute_result"
    }
   ],
   "source": [
    "a = df['c'] >=3\n",
    "df[a]\n",
    "#마스킹"
   ]
  },
  {
   "cell_type": "code",
   "execution_count": 130,
   "id": "b849e88d",
   "metadata": {},
   "outputs": [
    {
     "data": {
      "text/html": [
       "<div>\n",
       "<style scoped>\n",
       "    .dataframe tbody tr th:only-of-type {\n",
       "        vertical-align: middle;\n",
       "    }\n",
       "\n",
       "    .dataframe tbody tr th {\n",
       "        vertical-align: top;\n",
       "    }\n",
       "\n",
       "    .dataframe thead th {\n",
       "        text-align: right;\n",
       "    }\n",
       "</style>\n",
       "<table border=\"1\" class=\"dataframe\">\n",
       "  <thead>\n",
       "    <tr style=\"text-align: right;\">\n",
       "      <th></th>\n",
       "      <th>a</th>\n",
       "      <th>b</th>\n",
       "      <th>c</th>\n",
       "    </tr>\n",
       "  </thead>\n",
       "  <tbody>\n",
       "    <tr>\n",
       "      <th>0</th>\n",
       "      <td>1</td>\n",
       "      <td>4</td>\n",
       "      <td>7</td>\n",
       "    </tr>\n",
       "    <tr>\n",
       "      <th>1</th>\n",
       "      <td>2</td>\n",
       "      <td>5</td>\n",
       "      <td>8</td>\n",
       "    </tr>\n",
       "    <tr>\n",
       "      <th>2</th>\n",
       "      <td>3</td>\n",
       "      <td>6</td>\n",
       "      <td>9</td>\n",
       "    </tr>\n",
       "    <tr>\n",
       "      <th>3</th>\n",
       "      <td>4</td>\n",
       "      <td>7</td>\n",
       "      <td>0</td>\n",
       "    </tr>\n",
       "    <tr>\n",
       "      <th>4</th>\n",
       "      <td>5</td>\n",
       "      <td>8</td>\n",
       "      <td>1</td>\n",
       "    </tr>\n",
       "  </tbody>\n",
       "</table>\n",
       "</div>"
      ],
      "text/plain": [
       "   a  b  c\n",
       "0  1  4  7\n",
       "1  2  5  8\n",
       "2  3  6  9\n",
       "3  4  7  0\n",
       "4  5  8  1"
      ]
     },
     "execution_count": 130,
     "metadata": {},
     "output_type": "execute_result"
    }
   ],
   "source": [
    "df"
   ]
  },
  {
   "cell_type": "code",
   "execution_count": 136,
   "id": "25802f2a",
   "metadata": {},
   "outputs": [
    {
     "data": {
      "text/html": [
       "<div>\n",
       "<style scoped>\n",
       "    .dataframe tbody tr th:only-of-type {\n",
       "        vertical-align: middle;\n",
       "    }\n",
       "\n",
       "    .dataframe tbody tr th {\n",
       "        vertical-align: top;\n",
       "    }\n",
       "\n",
       "    .dataframe thead th {\n",
       "        text-align: right;\n",
       "    }\n",
       "</style>\n",
       "<table border=\"1\" class=\"dataframe\">\n",
       "  <thead>\n",
       "    <tr style=\"text-align: right;\">\n",
       "      <th></th>\n",
       "      <th>a</th>\n",
       "      <th>b</th>\n",
       "    </tr>\n",
       "  </thead>\n",
       "  <tbody>\n",
       "    <tr>\n",
       "      <th>0</th>\n",
       "      <td>1</td>\n",
       "      <td>4</td>\n",
       "    </tr>\n",
       "    <tr>\n",
       "      <th>1</th>\n",
       "      <td>2</td>\n",
       "      <td>5</td>\n",
       "    </tr>\n",
       "    <tr>\n",
       "      <th>2</th>\n",
       "      <td>3</td>\n",
       "      <td>6</td>\n",
       "    </tr>\n",
       "    <tr>\n",
       "      <th>3</th>\n",
       "      <td>4</td>\n",
       "      <td>7</td>\n",
       "    </tr>\n",
       "    <tr>\n",
       "      <th>4</th>\n",
       "      <td>5</td>\n",
       "      <td>8</td>\n",
       "    </tr>\n",
       "  </tbody>\n",
       "</table>\n",
       "</div>"
      ],
      "text/plain": [
       "   a  b\n",
       "0  1  4\n",
       "1  2  5\n",
       "2  3  6\n",
       "3  4  7\n",
       "4  5  8"
      ]
     },
     "execution_count": 136,
     "metadata": {},
     "output_type": "execute_result"
    }
   ],
   "source": [
    "#인덱스를 대상으로 해서\n",
    "n = df.loc[3] >= 4\n",
    "df.loc[:, n]"
   ]
  },
  {
   "cell_type": "code",
   "execution_count": 180,
   "id": "707aa763",
   "metadata": {},
   "outputs": [
    {
     "ename": "TypeError",
     "evalue": "'DataFrame' object is not callable",
     "output_type": "error",
     "traceback": [
      "\u001b[1;31m---------------------------------------------------------------------------\u001b[0m",
      "\u001b[1;31mTypeError\u001b[0m                                 Traceback (most recent call last)",
      "Cell \u001b[1;32mIn[180], line 6\u001b[0m\n\u001b[0;32m      3\u001b[0m df2\n\u001b[0;32m      5\u001b[0m m2 \u001b[38;5;241m=\u001b[39m df[\u001b[38;5;124m'\u001b[39m\u001b[38;5;124mc\u001b[39m\u001b[38;5;124m'\u001b[39m] \u001b[38;5;241m<\u001b[39m\u001b[38;5;241m=\u001b[39m \u001b[38;5;241m8\u001b[39m\n\u001b[1;32m----> 6\u001b[0m df2(m2)\n",
      "\u001b[1;31mTypeError\u001b[0m: 'DataFrame' object is not callable"
     ]
    }
   ],
   "source": [
    "a = df['c'] >=5\n",
    "df2 = df[a]\n",
    "df2\n"
   ]
  },
  {
   "cell_type": "code",
   "execution_count": 181,
   "id": "59dbd4de",
   "metadata": {},
   "outputs": [
    {
     "name": "stderr",
     "output_type": "stream",
     "text": [
      "C:\\Users\\user\\AppData\\Local\\Temp\\ipykernel_11232\\1680622931.py:2: UserWarning: Boolean Series key will be reindexed to match DataFrame index.\n",
      "  df2[m2]\n"
     ]
    },
    {
     "data": {
      "text/html": [
       "<div>\n",
       "<style scoped>\n",
       "    .dataframe tbody tr th:only-of-type {\n",
       "        vertical-align: middle;\n",
       "    }\n",
       "\n",
       "    .dataframe tbody tr th {\n",
       "        vertical-align: top;\n",
       "    }\n",
       "\n",
       "    .dataframe thead th {\n",
       "        text-align: right;\n",
       "    }\n",
       "</style>\n",
       "<table border=\"1\" class=\"dataframe\">\n",
       "  <thead>\n",
       "    <tr style=\"text-align: right;\">\n",
       "      <th></th>\n",
       "      <th>a</th>\n",
       "      <th>b</th>\n",
       "      <th>c</th>\n",
       "    </tr>\n",
       "  </thead>\n",
       "  <tbody>\n",
       "    <tr>\n",
       "      <th>0</th>\n",
       "      <td>1</td>\n",
       "      <td>4</td>\n",
       "      <td>7</td>\n",
       "    </tr>\n",
       "    <tr>\n",
       "      <th>1</th>\n",
       "      <td>2</td>\n",
       "      <td>5</td>\n",
       "      <td>8</td>\n",
       "    </tr>\n",
       "  </tbody>\n",
       "</table>\n",
       "</div>"
      ],
      "text/plain": [
       "   a  b  c\n",
       "0  1  4  7\n",
       "1  2  5  8"
      ]
     },
     "execution_count": 181,
     "metadata": {},
     "output_type": "execute_result"
    }
   ],
   "source": [
    "m2 = df['c'] <= 8\n",
    "df2[m2]"
   ]
  },
  {
   "cell_type": "code",
   "execution_count": 182,
   "id": "34c4aacb",
   "metadata": {},
   "outputs": [
    {
     "data": {
      "text/html": [
       "<div>\n",
       "<style scoped>\n",
       "    .dataframe tbody tr th:only-of-type {\n",
       "        vertical-align: middle;\n",
       "    }\n",
       "\n",
       "    .dataframe tbody tr th {\n",
       "        vertical-align: top;\n",
       "    }\n",
       "\n",
       "    .dataframe thead th {\n",
       "        text-align: right;\n",
       "    }\n",
       "</style>\n",
       "<table border=\"1\" class=\"dataframe\">\n",
       "  <thead>\n",
       "    <tr style=\"text-align: right;\">\n",
       "      <th></th>\n",
       "      <th>a</th>\n",
       "      <th>b</th>\n",
       "      <th>c</th>\n",
       "    </tr>\n",
       "  </thead>\n",
       "  <tbody>\n",
       "    <tr>\n",
       "      <th>0</th>\n",
       "      <td>1</td>\n",
       "      <td>4</td>\n",
       "      <td>7</td>\n",
       "    </tr>\n",
       "    <tr>\n",
       "      <th>1</th>\n",
       "      <td>2</td>\n",
       "      <td>5</td>\n",
       "      <td>8</td>\n",
       "    </tr>\n",
       "  </tbody>\n",
       "</table>\n",
       "</div>"
      ],
      "text/plain": [
       "   a  b  c\n",
       "0  1  4  7\n",
       "1  2  5  8"
      ]
     },
     "execution_count": 182,
     "metadata": {},
     "output_type": "execute_result"
    }
   ],
   "source": [
    "#query()\n",
    "df.query('8>= c >=5')"
   ]
  },
  {
   "cell_type": "markdown",
   "id": "04e62c10",
   "metadata": {},
   "source": [
    "# 과제\n",
    "1. 판다스 패키지를 이용한다.\n",
    "2. 각 column별로 (x+1) * 2 연산을 하기\n",
    "3. 연산 결과는 'calc' column으로 따로 저장\n",
    "4. (오늘 날짜).csv 파일로 내보내기"
   ]
  },
  {
   "cell_type": "code",
   "execution_count": 46,
   "id": "e7354a3f",
   "metadata": {},
   "outputs": [
    {
     "data": {
      "text/html": [
       "<div>\n",
       "<style scoped>\n",
       "    .dataframe tbody tr th:only-of-type {\n",
       "        vertical-align: middle;\n",
       "    }\n",
       "\n",
       "    .dataframe tbody tr th {\n",
       "        vertical-align: top;\n",
       "    }\n",
       "\n",
       "    .dataframe thead th {\n",
       "        text-align: right;\n",
       "    }\n",
       "</style>\n",
       "<table border=\"1\" class=\"dataframe\">\n",
       "  <thead>\n",
       "    <tr style=\"text-align: right;\">\n",
       "      <th></th>\n",
       "      <th>A</th>\n",
       "      <th>B</th>\n",
       "      <th>C</th>\n",
       "    </tr>\n",
       "  </thead>\n",
       "  <tbody>\n",
       "    <tr>\n",
       "      <th>0</th>\n",
       "      <td>1</td>\n",
       "      <td>5</td>\n",
       "      <td>9</td>\n",
       "    </tr>\n",
       "    <tr>\n",
       "      <th>1</th>\n",
       "      <td>2</td>\n",
       "      <td>6</td>\n",
       "      <td>10</td>\n",
       "    </tr>\n",
       "    <tr>\n",
       "      <th>2</th>\n",
       "      <td>3</td>\n",
       "      <td>7</td>\n",
       "      <td>11</td>\n",
       "    </tr>\n",
       "    <tr>\n",
       "      <th>3</th>\n",
       "      <td>4</td>\n",
       "      <td>8</td>\n",
       "      <td>12</td>\n",
       "    </tr>\n",
       "  </tbody>\n",
       "</table>\n",
       "</div>"
      ],
      "text/plain": [
       "   A  B   C\n",
       "0  1  5   9\n",
       "1  2  6  10\n",
       "2  3  7  11\n",
       "3  4  8  12"
      ]
     },
     "execution_count": 46,
     "metadata": {},
     "output_type": "execute_result"
    }
   ],
   "source": [
    "import numpy as np\n",
    "import pandas as pd\n",
    "data = {'A': [1, 2, 3, 4],\n",
    "        'B': [5, 6, 7, 8],\n",
    "        'C': [9, 10, 11, 12]}\n",
    "df = pd.DataFrame(data)\n",
    "df\n"
   ]
  },
  {
   "cell_type": "code",
   "execution_count": 47,
   "id": "64194f9e",
   "metadata": {},
   "outputs": [
    {
     "data": {
      "text/html": [
       "<div>\n",
       "<style scoped>\n",
       "    .dataframe tbody tr th:only-of-type {\n",
       "        vertical-align: middle;\n",
       "    }\n",
       "\n",
       "    .dataframe tbody tr th {\n",
       "        vertical-align: top;\n",
       "    }\n",
       "\n",
       "    .dataframe thead th {\n",
       "        text-align: right;\n",
       "    }\n",
       "</style>\n",
       "<table border=\"1\" class=\"dataframe\">\n",
       "  <thead>\n",
       "    <tr style=\"text-align: right;\">\n",
       "      <th></th>\n",
       "      <th>A</th>\n",
       "      <th>B</th>\n",
       "      <th>C</th>\n",
       "    </tr>\n",
       "  </thead>\n",
       "  <tbody>\n",
       "    <tr>\n",
       "      <th>0</th>\n",
       "      <td>4</td>\n",
       "      <td>12</td>\n",
       "      <td>20</td>\n",
       "    </tr>\n",
       "    <tr>\n",
       "      <th>1</th>\n",
       "      <td>6</td>\n",
       "      <td>14</td>\n",
       "      <td>22</td>\n",
       "    </tr>\n",
       "    <tr>\n",
       "      <th>2</th>\n",
       "      <td>8</td>\n",
       "      <td>16</td>\n",
       "      <td>24</td>\n",
       "    </tr>\n",
       "    <tr>\n",
       "      <th>3</th>\n",
       "      <td>10</td>\n",
       "      <td>18</td>\n",
       "      <td>26</td>\n",
       "    </tr>\n",
       "  </tbody>\n",
       "</table>\n",
       "</div>"
      ],
      "text/plain": [
       "    A   B   C\n",
       "0   4  12  20\n",
       "1   6  14  22\n",
       "2   8  16  24\n",
       "3  10  18  26"
      ]
     },
     "execution_count": 47,
     "metadata": {},
     "output_type": "execute_result"
    }
   ],
   "source": [
    "df0 = (df+1) * 2\n",
    "df0"
   ]
  },
  {
   "cell_type": "code",
   "execution_count": 50,
   "id": "15225718",
   "metadata": {
    "scrolled": true
   },
   "outputs": [
    {
     "data": {
      "text/html": [
       "<div>\n",
       "<style scoped>\n",
       "    .dataframe tbody tr th:only-of-type {\n",
       "        vertical-align: middle;\n",
       "    }\n",
       "\n",
       "    .dataframe tbody tr th {\n",
       "        vertical-align: top;\n",
       "    }\n",
       "\n",
       "    .dataframe thead th {\n",
       "        text-align: right;\n",
       "    }\n",
       "</style>\n",
       "<table border=\"1\" class=\"dataframe\">\n",
       "  <thead>\n",
       "    <tr style=\"text-align: right;\">\n",
       "      <th></th>\n",
       "      <th>A</th>\n",
       "      <th>B</th>\n",
       "      <th>C</th>\n",
       "      <th>calc</th>\n",
       "    </tr>\n",
       "  </thead>\n",
       "  <tbody>\n",
       "    <tr>\n",
       "      <th>0</th>\n",
       "      <td>4</td>\n",
       "      <td>12</td>\n",
       "      <td>20</td>\n",
       "      <td>36</td>\n",
       "    </tr>\n",
       "    <tr>\n",
       "      <th>1</th>\n",
       "      <td>6</td>\n",
       "      <td>14</td>\n",
       "      <td>22</td>\n",
       "      <td>42</td>\n",
       "    </tr>\n",
       "    <tr>\n",
       "      <th>2</th>\n",
       "      <td>8</td>\n",
       "      <td>16</td>\n",
       "      <td>24</td>\n",
       "      <td>48</td>\n",
       "    </tr>\n",
       "    <tr>\n",
       "      <th>3</th>\n",
       "      <td>10</td>\n",
       "      <td>18</td>\n",
       "      <td>26</td>\n",
       "      <td>54</td>\n",
       "    </tr>\n",
       "  </tbody>\n",
       "</table>\n",
       "</div>"
      ],
      "text/plain": [
       "    A   B   C  calc\n",
       "0   4  12  20    36\n",
       "1   6  14  22    42\n",
       "2   8  16  24    48\n",
       "3  10  18  26    54"
      ]
     },
     "execution_count": 50,
     "metadata": {},
     "output_type": "execute_result"
    }
   ],
   "source": [
    "df0['calc'] = df0['A'] + df0['B'] + df0['C']\n",
    "df0"
   ]
  },
  {
   "cell_type": "code",
   "execution_count": 52,
   "id": "5c17b8dd",
   "metadata": {},
   "outputs": [],
   "source": [
    "df0.to_csv(\"./20230920 김도현과제.csv\")"
   ]
  },
  {
   "cell_type": "code",
   "execution_count": null,
   "id": "8338c8a1",
   "metadata": {},
   "outputs": [],
   "source": [
    "#공공데이터 포탈\n",
    "#한국자산관리공사_국유부동산"
   ]
  },
  {
   "cell_type": "code",
   "execution_count": 9,
   "id": "453933cc",
   "metadata": {},
   "outputs": [
    {
     "name": "stdout",
     "output_type": "stream",
     "text": [
      "<class 'pandas.core.frame.DataFrame'>\n",
      "RangeIndex: 141317 entries, 0 to 141316\n",
      "Data columns (total 11 columns):\n",
      " #   Column      Non-Null Count   Dtype  \n",
      "---  ------      --------------   -----  \n",
      " 0   연도구분        141317 non-null  int64  \n",
      " 1   지역구분        141317 non-null  object \n",
      " 2   소재지명        141317 non-null  object \n",
      " 3   재산구분        141317 non-null  object \n",
      " 4   공부지목        141316 non-null  object \n",
      " 5   대장면적(제곱미터)  141317 non-null  float64\n",
      " 6   대장금액(원)     141317 non-null  float64\n",
      " 7   처분구분명       141317 non-null  object \n",
      " 8   계약일자        141317 non-null  object \n",
      " 9   부점명         141317 non-null  object \n",
      " 10  팀명          141232 non-null  object \n",
      "dtypes: float64(2), int64(1), object(8)\n",
      "memory usage: 11.9+ MB\n"
     ]
    }
   ],
   "source": [
    "import pandas as pd\n",
    "df = pd.read_csv(r'C:\\Users\\user\\dohyeon/한국자산관리공사_국유부동산 매각현황_20221231.csv', encoding ='cp949')\n",
    "df\n"
   ]
  },
  {
   "cell_type": "code",
   "execution_count": 11,
   "id": "3909b117",
   "metadata": {
    "scrolled": false
   },
   "outputs": [
    {
     "data": {
      "text/html": [
       "<div>\n",
       "<style scoped>\n",
       "    .dataframe tbody tr th:only-of-type {\n",
       "        vertical-align: middle;\n",
       "    }\n",
       "\n",
       "    .dataframe tbody tr th {\n",
       "        vertical-align: top;\n",
       "    }\n",
       "\n",
       "    .dataframe thead th {\n",
       "        text-align: right;\n",
       "    }\n",
       "</style>\n",
       "<table border=\"1\" class=\"dataframe\">\n",
       "  <thead>\n",
       "    <tr style=\"text-align: right;\">\n",
       "      <th></th>\n",
       "      <th>연도구분</th>\n",
       "      <th>지역구분</th>\n",
       "      <th>소재지명</th>\n",
       "      <th>재산구분</th>\n",
       "      <th>공부지목</th>\n",
       "      <th>대장면적(제곱미터)</th>\n",
       "      <th>대장금액(원)</th>\n",
       "      <th>처분구분명</th>\n",
       "      <th>계약일자</th>\n",
       "      <th>부점명</th>\n",
       "      <th>팀명</th>\n",
       "    </tr>\n",
       "  </thead>\n",
       "  <tbody>\n",
       "    <tr>\n",
       "      <th>0</th>\n",
       "      <td>2014</td>\n",
       "      <td>전라북도</td>\n",
       "      <td>전라북도 정읍시 상동  725</td>\n",
       "      <td>토지</td>\n",
       "      <td>전</td>\n",
       "      <td>56.0</td>\n",
       "      <td>9968000.0</td>\n",
       "      <td>처분(매각수의)</td>\n",
       "      <td>2014-01-01</td>\n",
       "      <td>전북지역본부</td>\n",
       "      <td>국유재산관리1팀</td>\n",
       "    </tr>\n",
       "    <tr>\n",
       "      <th>1</th>\n",
       "      <td>2014</td>\n",
       "      <td>울산광역시</td>\n",
       "      <td>울산광역시 북구 천곡동  709-1</td>\n",
       "      <td>토지</td>\n",
       "      <td>임야</td>\n",
       "      <td>225.0</td>\n",
       "      <td>13770000.0</td>\n",
       "      <td>처분(매각수의)</td>\n",
       "      <td>2014-01-01</td>\n",
       "      <td>국유재산관리부</td>\n",
       "      <td>국유울산팀</td>\n",
       "    </tr>\n",
       "    <tr>\n",
       "      <th>2</th>\n",
       "      <td>2014</td>\n",
       "      <td>전라북도</td>\n",
       "      <td>전라북도 정읍시 산내면 종성리 727-21</td>\n",
       "      <td>토지</td>\n",
       "      <td>답</td>\n",
       "      <td>105.0</td>\n",
       "      <td>1075200.0</td>\n",
       "      <td>처분(매각수의)</td>\n",
       "      <td>2014-01-01</td>\n",
       "      <td>전북지역본부</td>\n",
       "      <td>국유재산관리1팀</td>\n",
       "    </tr>\n",
       "    <tr>\n",
       "      <th>3</th>\n",
       "      <td>2014</td>\n",
       "      <td>전라북도</td>\n",
       "      <td>전라북도 정읍시 산내면 종성리 727-16</td>\n",
       "      <td>토지</td>\n",
       "      <td>답</td>\n",
       "      <td>184.0</td>\n",
       "      <td>1884160.0</td>\n",
       "      <td>처분(매각수의)</td>\n",
       "      <td>2014-01-01</td>\n",
       "      <td>전북지역본부</td>\n",
       "      <td>국유재산관리1팀</td>\n",
       "    </tr>\n",
       "    <tr>\n",
       "      <th>4</th>\n",
       "      <td>2014</td>\n",
       "      <td>전라북도</td>\n",
       "      <td>전라북도 김제시 검산동  424-3</td>\n",
       "      <td>토지</td>\n",
       "      <td>전</td>\n",
       "      <td>2106.0</td>\n",
       "      <td>23797800.0</td>\n",
       "      <td>처분(매각수의)</td>\n",
       "      <td>2014-01-01</td>\n",
       "      <td>전북지역본부</td>\n",
       "      <td>국유재산관리2팀</td>\n",
       "    </tr>\n",
       "    <tr>\n",
       "      <th>...</th>\n",
       "      <td>...</td>\n",
       "      <td>...</td>\n",
       "      <td>...</td>\n",
       "      <td>...</td>\n",
       "      <td>...</td>\n",
       "      <td>...</td>\n",
       "      <td>...</td>\n",
       "      <td>...</td>\n",
       "      <td>...</td>\n",
       "      <td>...</td>\n",
       "      <td>...</td>\n",
       "    </tr>\n",
       "    <tr>\n",
       "      <th>141312</th>\n",
       "      <td>2022</td>\n",
       "      <td>제주특별자치도</td>\n",
       "      <td>제주특별자치도 서귀포시 표선면 하천리 1500-4</td>\n",
       "      <td>토지</td>\n",
       "      <td>임야</td>\n",
       "      <td>208.0</td>\n",
       "      <td>29952000.0</td>\n",
       "      <td>처분(매각수의)</td>\n",
       "      <td>2022-11-09</td>\n",
       "      <td>광주전남지역본부</td>\n",
       "      <td>국유제주지사</td>\n",
       "    </tr>\n",
       "    <tr>\n",
       "      <th>141313</th>\n",
       "      <td>2022</td>\n",
       "      <td>제주특별자치도</td>\n",
       "      <td>제주특별자치도 서귀포시 표선면 세화리 2451-3</td>\n",
       "      <td>토지</td>\n",
       "      <td>전</td>\n",
       "      <td>1257.0</td>\n",
       "      <td>56062200.0</td>\n",
       "      <td>처분(매각수의)</td>\n",
       "      <td>2022-12-29</td>\n",
       "      <td>광주전남지역본부</td>\n",
       "      <td>국유제주지사</td>\n",
       "    </tr>\n",
       "    <tr>\n",
       "      <th>141314</th>\n",
       "      <td>2022</td>\n",
       "      <td>제주특별자치도</td>\n",
       "      <td>제주특별자치도 서귀포시 표선면 세화리 2451-10</td>\n",
       "      <td>토지</td>\n",
       "      <td>전</td>\n",
       "      <td>2974.0</td>\n",
       "      <td>132640400.0</td>\n",
       "      <td>처분(매각수의)</td>\n",
       "      <td>2022-12-29</td>\n",
       "      <td>광주전남지역본부</td>\n",
       "      <td>국유제주지사</td>\n",
       "    </tr>\n",
       "    <tr>\n",
       "      <th>141315</th>\n",
       "      <td>2022</td>\n",
       "      <td>제주특별자치도</td>\n",
       "      <td>제주특별자치도 서귀포시 표선면 토산리 32-3</td>\n",
       "      <td>토지</td>\n",
       "      <td>유지</td>\n",
       "      <td>80.0</td>\n",
       "      <td>32160000.0</td>\n",
       "      <td>처분(매각수의)</td>\n",
       "      <td>2022-08-04</td>\n",
       "      <td>광주전남지역본부</td>\n",
       "      <td>국유제주지사</td>\n",
       "    </tr>\n",
       "    <tr>\n",
       "      <th>141316</th>\n",
       "      <td>2022</td>\n",
       "      <td>제주특별자치도</td>\n",
       "      <td>제주특별자치도 서귀포시 표선면 토산리 1033</td>\n",
       "      <td>토지</td>\n",
       "      <td>묘지</td>\n",
       "      <td>178.0</td>\n",
       "      <td>2776800.0</td>\n",
       "      <td>처분(매각수의)</td>\n",
       "      <td>2022-11-22</td>\n",
       "      <td>광주전남지역본부</td>\n",
       "      <td>국유제주지사</td>\n",
       "    </tr>\n",
       "  </tbody>\n",
       "</table>\n",
       "<p>141317 rows × 11 columns</p>\n",
       "</div>"
      ],
      "text/plain": [
       "        연도구분     지역구분                          소재지명 재산구분 공부지목  대장면적(제곱미터)  \\\n",
       "0       2014     전라북도              전라북도 정읍시 상동  725   토지    전        56.0   \n",
       "1       2014    울산광역시           울산광역시 북구 천곡동  709-1   토지   임야       225.0   \n",
       "2       2014     전라북도       전라북도 정읍시 산내면 종성리 727-21   토지    답       105.0   \n",
       "3       2014     전라북도       전라북도 정읍시 산내면 종성리 727-16   토지    답       184.0   \n",
       "4       2014     전라북도           전라북도 김제시 검산동  424-3   토지    전      2106.0   \n",
       "...      ...      ...                           ...  ...  ...         ...   \n",
       "141312  2022  제주특별자치도   제주특별자치도 서귀포시 표선면 하천리 1500-4   토지   임야       208.0   \n",
       "141313  2022  제주특별자치도   제주특별자치도 서귀포시 표선면 세화리 2451-3   토지    전      1257.0   \n",
       "141314  2022  제주특별자치도  제주특별자치도 서귀포시 표선면 세화리 2451-10   토지    전      2974.0   \n",
       "141315  2022  제주특별자치도     제주특별자치도 서귀포시 표선면 토산리 32-3   토지   유지        80.0   \n",
       "141316  2022  제주특별자치도     제주특별자치도 서귀포시 표선면 토산리 1033   토지   묘지       178.0   \n",
       "\n",
       "            대장금액(원)     처분구분명        계약일자       부점명        팀명  \n",
       "0         9968000.0  처분(매각수의)  2014-01-01    전북지역본부  국유재산관리1팀  \n",
       "1        13770000.0  처분(매각수의)  2014-01-01   국유재산관리부     국유울산팀  \n",
       "2         1075200.0  처분(매각수의)  2014-01-01    전북지역본부  국유재산관리1팀  \n",
       "3         1884160.0  처분(매각수의)  2014-01-01    전북지역본부  국유재산관리1팀  \n",
       "4        23797800.0  처분(매각수의)  2014-01-01    전북지역본부  국유재산관리2팀  \n",
       "...             ...       ...         ...       ...       ...  \n",
       "141312   29952000.0  처분(매각수의)  2022-11-09  광주전남지역본부    국유제주지사  \n",
       "141313   56062200.0  처분(매각수의)  2022-12-29  광주전남지역본부    국유제주지사  \n",
       "141314  132640400.0  처분(매각수의)  2022-12-29  광주전남지역본부    국유제주지사  \n",
       "141315   32160000.0  처분(매각수의)  2022-08-04  광주전남지역본부    국유제주지사  \n",
       "141316    2776800.0  처분(매각수의)  2022-11-22  광주전남지역본부    국유제주지사  \n",
       "\n",
       "[141317 rows x 11 columns]"
      ]
     },
     "execution_count": 11,
     "metadata": {},
     "output_type": "execute_result"
    }
   ],
   "source": [
    "df"
   ]
  },
  {
   "cell_type": "code",
   "execution_count": 19,
   "id": "ef622c42",
   "metadata": {},
   "outputs": [],
   "source": [
    "for c in df.columns:\n",
    "    new_name = c + '_calc'\n",
    "    try:\n",
    "        df[new_name] = (df.loc[:, c] + 1) * 2\n",
    "    except:\n",
    "        pass\n"
   ]
  },
  {
   "cell_type": "code",
   "execution_count": 20,
   "id": "bdfc2651",
   "metadata": {
    "scrolled": false
   },
   "outputs": [
    {
     "data": {
      "text/html": [
       "<div>\n",
       "<style scoped>\n",
       "    .dataframe tbody tr th:only-of-type {\n",
       "        vertical-align: middle;\n",
       "    }\n",
       "\n",
       "    .dataframe tbody tr th {\n",
       "        vertical-align: top;\n",
       "    }\n",
       "\n",
       "    .dataframe thead th {\n",
       "        text-align: right;\n",
       "    }\n",
       "</style>\n",
       "<table border=\"1\" class=\"dataframe\">\n",
       "  <thead>\n",
       "    <tr style=\"text-align: right;\">\n",
       "      <th></th>\n",
       "      <th>연도구분</th>\n",
       "      <th>지역구분</th>\n",
       "      <th>소재지명</th>\n",
       "      <th>재산구분</th>\n",
       "      <th>공부지목</th>\n",
       "      <th>대장면적(제곱미터)</th>\n",
       "      <th>대장금액(원)</th>\n",
       "      <th>처분구분명</th>\n",
       "      <th>계약일자</th>\n",
       "      <th>부점명</th>\n",
       "      <th>팀명</th>\n",
       "      <th>연도구분_calc</th>\n",
       "      <th>대장면적(제곱미터)_calc</th>\n",
       "      <th>대장금액(원)_calc</th>\n",
       "    </tr>\n",
       "  </thead>\n",
       "  <tbody>\n",
       "    <tr>\n",
       "      <th>0</th>\n",
       "      <td>2014</td>\n",
       "      <td>전라북도</td>\n",
       "      <td>전라북도 정읍시 상동  725</td>\n",
       "      <td>토지</td>\n",
       "      <td>전</td>\n",
       "      <td>56.0</td>\n",
       "      <td>9968000.0</td>\n",
       "      <td>처분(매각수의)</td>\n",
       "      <td>2014-01-01</td>\n",
       "      <td>전북지역본부</td>\n",
       "      <td>국유재산관리1팀</td>\n",
       "      <td>4030</td>\n",
       "      <td>114.0</td>\n",
       "      <td>19936002.0</td>\n",
       "    </tr>\n",
       "    <tr>\n",
       "      <th>1</th>\n",
       "      <td>2014</td>\n",
       "      <td>울산광역시</td>\n",
       "      <td>울산광역시 북구 천곡동  709-1</td>\n",
       "      <td>토지</td>\n",
       "      <td>임야</td>\n",
       "      <td>225.0</td>\n",
       "      <td>13770000.0</td>\n",
       "      <td>처분(매각수의)</td>\n",
       "      <td>2014-01-01</td>\n",
       "      <td>국유재산관리부</td>\n",
       "      <td>국유울산팀</td>\n",
       "      <td>4030</td>\n",
       "      <td>452.0</td>\n",
       "      <td>27540002.0</td>\n",
       "    </tr>\n",
       "    <tr>\n",
       "      <th>2</th>\n",
       "      <td>2014</td>\n",
       "      <td>전라북도</td>\n",
       "      <td>전라북도 정읍시 산내면 종성리 727-21</td>\n",
       "      <td>토지</td>\n",
       "      <td>답</td>\n",
       "      <td>105.0</td>\n",
       "      <td>1075200.0</td>\n",
       "      <td>처분(매각수의)</td>\n",
       "      <td>2014-01-01</td>\n",
       "      <td>전북지역본부</td>\n",
       "      <td>국유재산관리1팀</td>\n",
       "      <td>4030</td>\n",
       "      <td>212.0</td>\n",
       "      <td>2150402.0</td>\n",
       "    </tr>\n",
       "    <tr>\n",
       "      <th>3</th>\n",
       "      <td>2014</td>\n",
       "      <td>전라북도</td>\n",
       "      <td>전라북도 정읍시 산내면 종성리 727-16</td>\n",
       "      <td>토지</td>\n",
       "      <td>답</td>\n",
       "      <td>184.0</td>\n",
       "      <td>1884160.0</td>\n",
       "      <td>처분(매각수의)</td>\n",
       "      <td>2014-01-01</td>\n",
       "      <td>전북지역본부</td>\n",
       "      <td>국유재산관리1팀</td>\n",
       "      <td>4030</td>\n",
       "      <td>370.0</td>\n",
       "      <td>3768322.0</td>\n",
       "    </tr>\n",
       "    <tr>\n",
       "      <th>4</th>\n",
       "      <td>2014</td>\n",
       "      <td>전라북도</td>\n",
       "      <td>전라북도 김제시 검산동  424-3</td>\n",
       "      <td>토지</td>\n",
       "      <td>전</td>\n",
       "      <td>2106.0</td>\n",
       "      <td>23797800.0</td>\n",
       "      <td>처분(매각수의)</td>\n",
       "      <td>2014-01-01</td>\n",
       "      <td>전북지역본부</td>\n",
       "      <td>국유재산관리2팀</td>\n",
       "      <td>4030</td>\n",
       "      <td>4214.0</td>\n",
       "      <td>47595602.0</td>\n",
       "    </tr>\n",
       "    <tr>\n",
       "      <th>...</th>\n",
       "      <td>...</td>\n",
       "      <td>...</td>\n",
       "      <td>...</td>\n",
       "      <td>...</td>\n",
       "      <td>...</td>\n",
       "      <td>...</td>\n",
       "      <td>...</td>\n",
       "      <td>...</td>\n",
       "      <td>...</td>\n",
       "      <td>...</td>\n",
       "      <td>...</td>\n",
       "      <td>...</td>\n",
       "      <td>...</td>\n",
       "      <td>...</td>\n",
       "    </tr>\n",
       "    <tr>\n",
       "      <th>141312</th>\n",
       "      <td>2022</td>\n",
       "      <td>제주특별자치도</td>\n",
       "      <td>제주특별자치도 서귀포시 표선면 하천리 1500-4</td>\n",
       "      <td>토지</td>\n",
       "      <td>임야</td>\n",
       "      <td>208.0</td>\n",
       "      <td>29952000.0</td>\n",
       "      <td>처분(매각수의)</td>\n",
       "      <td>2022-11-09</td>\n",
       "      <td>광주전남지역본부</td>\n",
       "      <td>국유제주지사</td>\n",
       "      <td>4046</td>\n",
       "      <td>418.0</td>\n",
       "      <td>59904002.0</td>\n",
       "    </tr>\n",
       "    <tr>\n",
       "      <th>141313</th>\n",
       "      <td>2022</td>\n",
       "      <td>제주특별자치도</td>\n",
       "      <td>제주특별자치도 서귀포시 표선면 세화리 2451-3</td>\n",
       "      <td>토지</td>\n",
       "      <td>전</td>\n",
       "      <td>1257.0</td>\n",
       "      <td>56062200.0</td>\n",
       "      <td>처분(매각수의)</td>\n",
       "      <td>2022-12-29</td>\n",
       "      <td>광주전남지역본부</td>\n",
       "      <td>국유제주지사</td>\n",
       "      <td>4046</td>\n",
       "      <td>2516.0</td>\n",
       "      <td>112124402.0</td>\n",
       "    </tr>\n",
       "    <tr>\n",
       "      <th>141314</th>\n",
       "      <td>2022</td>\n",
       "      <td>제주특별자치도</td>\n",
       "      <td>제주특별자치도 서귀포시 표선면 세화리 2451-10</td>\n",
       "      <td>토지</td>\n",
       "      <td>전</td>\n",
       "      <td>2974.0</td>\n",
       "      <td>132640400.0</td>\n",
       "      <td>처분(매각수의)</td>\n",
       "      <td>2022-12-29</td>\n",
       "      <td>광주전남지역본부</td>\n",
       "      <td>국유제주지사</td>\n",
       "      <td>4046</td>\n",
       "      <td>5950.0</td>\n",
       "      <td>265280802.0</td>\n",
       "    </tr>\n",
       "    <tr>\n",
       "      <th>141315</th>\n",
       "      <td>2022</td>\n",
       "      <td>제주특별자치도</td>\n",
       "      <td>제주특별자치도 서귀포시 표선면 토산리 32-3</td>\n",
       "      <td>토지</td>\n",
       "      <td>유지</td>\n",
       "      <td>80.0</td>\n",
       "      <td>32160000.0</td>\n",
       "      <td>처분(매각수의)</td>\n",
       "      <td>2022-08-04</td>\n",
       "      <td>광주전남지역본부</td>\n",
       "      <td>국유제주지사</td>\n",
       "      <td>4046</td>\n",
       "      <td>162.0</td>\n",
       "      <td>64320002.0</td>\n",
       "    </tr>\n",
       "    <tr>\n",
       "      <th>141316</th>\n",
       "      <td>2022</td>\n",
       "      <td>제주특별자치도</td>\n",
       "      <td>제주특별자치도 서귀포시 표선면 토산리 1033</td>\n",
       "      <td>토지</td>\n",
       "      <td>묘지</td>\n",
       "      <td>178.0</td>\n",
       "      <td>2776800.0</td>\n",
       "      <td>처분(매각수의)</td>\n",
       "      <td>2022-11-22</td>\n",
       "      <td>광주전남지역본부</td>\n",
       "      <td>국유제주지사</td>\n",
       "      <td>4046</td>\n",
       "      <td>358.0</td>\n",
       "      <td>5553602.0</td>\n",
       "    </tr>\n",
       "  </tbody>\n",
       "</table>\n",
       "<p>141317 rows × 14 columns</p>\n",
       "</div>"
      ],
      "text/plain": [
       "        연도구분     지역구분                          소재지명 재산구분 공부지목  대장면적(제곱미터)  \\\n",
       "0       2014     전라북도              전라북도 정읍시 상동  725   토지    전        56.0   \n",
       "1       2014    울산광역시           울산광역시 북구 천곡동  709-1   토지   임야       225.0   \n",
       "2       2014     전라북도       전라북도 정읍시 산내면 종성리 727-21   토지    답       105.0   \n",
       "3       2014     전라북도       전라북도 정읍시 산내면 종성리 727-16   토지    답       184.0   \n",
       "4       2014     전라북도           전라북도 김제시 검산동  424-3   토지    전      2106.0   \n",
       "...      ...      ...                           ...  ...  ...         ...   \n",
       "141312  2022  제주특별자치도   제주특별자치도 서귀포시 표선면 하천리 1500-4   토지   임야       208.0   \n",
       "141313  2022  제주특별자치도   제주특별자치도 서귀포시 표선면 세화리 2451-3   토지    전      1257.0   \n",
       "141314  2022  제주특별자치도  제주특별자치도 서귀포시 표선면 세화리 2451-10   토지    전      2974.0   \n",
       "141315  2022  제주특별자치도     제주특별자치도 서귀포시 표선면 토산리 32-3   토지   유지        80.0   \n",
       "141316  2022  제주특별자치도     제주특별자치도 서귀포시 표선면 토산리 1033   토지   묘지       178.0   \n",
       "\n",
       "            대장금액(원)     처분구분명        계약일자       부점명        팀명  연도구분_calc  \\\n",
       "0         9968000.0  처분(매각수의)  2014-01-01    전북지역본부  국유재산관리1팀       4030   \n",
       "1        13770000.0  처분(매각수의)  2014-01-01   국유재산관리부     국유울산팀       4030   \n",
       "2         1075200.0  처분(매각수의)  2014-01-01    전북지역본부  국유재산관리1팀       4030   \n",
       "3         1884160.0  처분(매각수의)  2014-01-01    전북지역본부  국유재산관리1팀       4030   \n",
       "4        23797800.0  처분(매각수의)  2014-01-01    전북지역본부  국유재산관리2팀       4030   \n",
       "...             ...       ...         ...       ...       ...        ...   \n",
       "141312   29952000.0  처분(매각수의)  2022-11-09  광주전남지역본부    국유제주지사       4046   \n",
       "141313   56062200.0  처분(매각수의)  2022-12-29  광주전남지역본부    국유제주지사       4046   \n",
       "141314  132640400.0  처분(매각수의)  2022-12-29  광주전남지역본부    국유제주지사       4046   \n",
       "141315   32160000.0  처분(매각수의)  2022-08-04  광주전남지역본부    국유제주지사       4046   \n",
       "141316    2776800.0  처분(매각수의)  2022-11-22  광주전남지역본부    국유제주지사       4046   \n",
       "\n",
       "        대장면적(제곱미터)_calc  대장금액(원)_calc  \n",
       "0                 114.0    19936002.0  \n",
       "1                 452.0    27540002.0  \n",
       "2                 212.0     2150402.0  \n",
       "3                 370.0     3768322.0  \n",
       "4                4214.0    47595602.0  \n",
       "...                 ...           ...  \n",
       "141312            418.0    59904002.0  \n",
       "141313           2516.0   112124402.0  \n",
       "141314           5950.0   265280802.0  \n",
       "141315            162.0    64320002.0  \n",
       "141316            358.0     5553602.0  \n",
       "\n",
       "[141317 rows x 14 columns]"
      ]
     },
     "execution_count": 20,
     "metadata": {},
     "output_type": "execute_result"
    }
   ],
   "source": [
    "df"
   ]
  },
  {
   "cell_type": "code",
   "execution_count": 23,
   "id": "15731d14",
   "metadata": {},
   "outputs": [],
   "source": [
    "df.to_csv('230921.csv', encoding = 'cp949')"
   ]
  },
  {
   "cell_type": "code",
   "execution_count": 22,
   "id": "21f8a77f",
   "metadata": {},
   "outputs": [
    {
     "data": {
      "text/plain": [
       "0         4030\n",
       "1         4030\n",
       "2         4030\n",
       "3         4030\n",
       "4         4030\n",
       "          ... \n",
       "141312    4046\n",
       "141313    4046\n",
       "141314    4046\n",
       "141315    4046\n",
       "141316    4046\n",
       "Name: 연도구분_calc, Length: 141317, dtype: int64"
      ]
     },
     "execution_count": 22,
     "metadata": {},
     "output_type": "execute_result"
    }
   ],
   "source": [
    "df['연도구분_calc']"
   ]
  },
  {
   "cell_type": "code",
   "execution_count": null,
   "id": "24da4290",
   "metadata": {},
   "outputs": [],
   "source": []
  },
  {
   "cell_type": "code",
   "execution_count": null,
   "id": "62419114",
   "metadata": {},
   "outputs": [],
   "source": []
  },
  {
   "cell_type": "code",
   "execution_count": null,
   "id": "80607406",
   "metadata": {},
   "outputs": [],
   "source": []
  },
  {
   "cell_type": "code",
   "execution_count": null,
   "id": "3ede05f4",
   "metadata": {},
   "outputs": [],
   "source": []
  },
  {
   "cell_type": "code",
   "execution_count": 12,
   "id": "becf5aef",
   "metadata": {
    "scrolled": true
   },
   "outputs": [
    {
     "name": "stdout",
     "output_type": "stream",
     "text": [
      "<class 'pandas.core.frame.DataFrame'>\n",
      "RangeIndex: 141317 entries, 0 to 141316\n",
      "Data columns (total 11 columns):\n",
      " #   Column      Non-Null Count   Dtype  \n",
      "---  ------      --------------   -----  \n",
      " 0   연도구분        141317 non-null  int64  \n",
      " 1   지역구분        141317 non-null  object \n",
      " 2   소재지명        141317 non-null  object \n",
      " 3   재산구분        141317 non-null  object \n",
      " 4   공부지목        141316 non-null  object \n",
      " 5   대장면적(제곱미터)  141317 non-null  float64\n",
      " 6   대장금액(원)     141317 non-null  float64\n",
      " 7   처분구분명       141317 non-null  object \n",
      " 8   계약일자        141317 non-null  object \n",
      " 9   부점명         141317 non-null  object \n",
      " 10  팀명          141232 non-null  object \n",
      "dtypes: float64(2), int64(1), object(8)\n",
      "memory usage: 11.9+ MB\n"
     ]
    }
   ],
   "source": [
    "df.info()"
   ]
  },
  {
   "cell_type": "code",
   "execution_count": 10,
   "id": "d81b00d2",
   "metadata": {
    "scrolled": true
   },
   "outputs": [
    {
     "data": {
      "text/plain": [
       "연도구분           0\n",
       "지역구분           0\n",
       "소재지명           0\n",
       "재산구분           0\n",
       "공부지목           1\n",
       "대장면적(제곱미터)     0\n",
       "대장금액(원)        0\n",
       "처분구분명          0\n",
       "계약일자           0\n",
       "부점명            0\n",
       "팀명            85\n",
       "dtype: int64"
      ]
     },
     "execution_count": 10,
     "metadata": {},
     "output_type": "execute_result"
    }
   ],
   "source": [
    "df.isnull().sum()"
   ]
  },
  {
   "cell_type": "code",
   "execution_count": null,
   "id": "3dfc0282",
   "metadata": {},
   "outputs": [],
   "source": []
  },
  {
   "cell_type": "code",
   "execution_count": null,
   "id": "57e7d119",
   "metadata": {},
   "outputs": [],
   "source": []
  },
  {
   "cell_type": "code",
   "execution_count": null,
   "id": "f7124723",
   "metadata": {},
   "outputs": [],
   "source": []
  },
  {
   "cell_type": "code",
   "execution_count": null,
   "id": "ce075398",
   "metadata": {},
   "outputs": [],
   "source": []
  },
  {
   "cell_type": "code",
   "execution_count": null,
   "id": "dadf17af",
   "metadata": {},
   "outputs": [],
   "source": []
  }
 ],
 "metadata": {
  "kernelspec": {
   "display_name": "Python 3 (ipykernel)",
   "language": "python",
   "name": "python3"
  },
  "language_info": {
   "codemirror_mode": {
    "name": "ipython",
    "version": 3
   },
   "file_extension": ".py",
   "mimetype": "text/x-python",
   "name": "python",
   "nbconvert_exporter": "python",
   "pygments_lexer": "ipython3",
   "version": "3.11.4"
  }
 },
 "nbformat": 4,
 "nbformat_minor": 5
}
