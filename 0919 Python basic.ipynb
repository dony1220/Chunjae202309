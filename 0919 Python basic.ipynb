{
 "cells": [
  {
   "cell_type": "code",
   "execution_count": 1,
   "id": "7b61482e",
   "metadata": {},
   "outputs": [
    {
     "name": "stdout",
     "output_type": "stream",
     "text": [
      "Hello, World!\n"
     ]
    }
   ],
   "source": [
    "print(\"Hello, World!\")"
   ]
  },
  {
   "cell_type": "code",
   "execution_count": null,
   "id": "2cebfd9c",
   "metadata": {},
   "outputs": [],
   "source": [
    "#자료형\n",
    "#data type\n",
    "#list 제일 중요함"
   ]
  },
  {
   "cell_type": "code",
   "execution_count": 8,
   "id": "8520b49d",
   "metadata": {},
   "outputs": [
    {
     "name": "stdout",
     "output_type": "stream",
     "text": [
      "숫자를 입력해주세요 10\n",
      "+, -, *, /를 입력해주세요 *\n",
      "숫자를 입력해주세요 9\n",
      "input_num * input_num2 90\n"
     ]
    }
   ],
   "source": [
    "##실습\n",
    "#-> 자료형과 연산자 종류별로 써봅시다.\n",
    "#int 사용 및 operator는 input으로만 받았기에 문자열임.\n",
    "input_num = int(input(\"숫자를 입력해주세요:\"))\n",
    "operator = input(\"+, -, *, /를 입력해주세요:\")\n",
    "input_num2 = int(input(\"숫자를 입력해주세요 :\"))\n",
    "\n",
    "if operator == '+':\n",
    "    print(\"input_num + input_num2\", input_num+input_num2)\n",
    "elif operator == '-':\n",
    "    print(\"input_num - input_num2\", input_num-input_num2)\n",
    "elif operator == '*':\n",
    "    print(\"input_num * input_num2\", input_num*input_num2)\n",
    "elif operator == '/':\n",
    "    print(\"input_num / input_num2\", input_num/input_num2)\n",
    "else:\n",
    "    print(\"해당 연산은 계산할 수 없습니다.\\n\")\n"
   ]
  },
  {
   "cell_type": "code",
   "execution_count": 2,
   "id": "5884a989",
   "metadata": {},
   "outputs": [
    {
     "name": "stdout",
     "output_type": "stream",
     "text": [
      "hello\n"
     ]
    }
   ],
   "source": [
    "z = 'hello'\n",
    "print(z)"
   ]
  },
  {
   "cell_type": "code",
   "execution_count": 3,
   "id": "6950d2fa",
   "metadata": {},
   "outputs": [
    {
     "data": {
      "text/plain": [
       "'helloHell'"
      ]
     },
     "execution_count": 3,
     "metadata": {},
     "output_type": "execute_result"
    }
   ],
   "source": [
    "y = 'Hell'\n",
    "z+y"
   ]
  },
  {
   "cell_type": "code",
   "execution_count": 4,
   "id": "6990667c",
   "metadata": {},
   "outputs": [
    {
     "name": "stdout",
     "output_type": "stream",
     "text": [
      "<class 'str'>\n"
     ]
    }
   ],
   "source": [
    "i = 2\n",
    "x = str(i) + y\n",
    "print(type(x))"
   ]
  },
  {
   "cell_type": "code",
   "execution_count": 5,
   "id": "b6520acc",
   "metadata": {},
   "outputs": [
    {
     "data": {
      "text/plain": [
       "'hello/Hell'"
      ]
     },
     "execution_count": 5,
     "metadata": {},
     "output_type": "execute_result"
    }
   ],
   "source": [
    "'/'.join([z,y])"
   ]
  },
  {
   "cell_type": "code",
   "execution_count": 8,
   "id": "57fa4ff6",
   "metadata": {},
   "outputs": [
    {
     "data": {
      "text/plain": [
       "'hello..Hell'"
      ]
     },
     "execution_count": 8,
     "metadata": {},
     "output_type": "execute_result"
    }
   ],
   "source": [
    "'..'.join([z,y])"
   ]
  },
  {
   "cell_type": "code",
   "execution_count": 19,
   "id": "bba8946f",
   "metadata": {},
   "outputs": [
    {
     "data": {
      "text/plain": [
       "['yosep', 'rabbit']"
      ]
     },
     "execution_count": 19,
     "metadata": {},
     "output_type": "execute_result"
    }
   ],
   "source": [
    "'yosepandrabbit' .split('and')\n"
   ]
  },
  {
   "cell_type": "code",
   "execution_count": 21,
   "id": "a9c11a4b",
   "metadata": {},
   "outputs": [
    {
     "data": {
      "text/plain": [
       "1.4142135623730951"
      ]
     },
     "execution_count": 21,
     "metadata": {},
     "output_type": "execute_result"
    }
   ],
   "source": [
    "#패키지\n",
    "import math\n",
    "math.sqrt(2)"
   ]
  },
  {
   "cell_type": "code",
   "execution_count": null,
   "id": "d02e222a",
   "metadata": {},
   "outputs": [],
   "source": [
    "# !pip install 하면 라이브러리 알아서 깔림\n"
   ]
  },
  {
   "cell_type": "code",
   "execution_count": 10,
   "id": "95d88a85",
   "metadata": {},
   "outputs": [
    {
     "name": "stdout",
     "output_type": "stream",
     "text": [
      "hello, and hello\n"
     ]
    }
   ],
   "source": [
    "print(\"hello, and hello\")"
   ]
  },
  {
   "cell_type": "code",
   "execution_count": 23,
   "id": "0bc62f47",
   "metadata": {},
   "outputs": [
    {
     "ename": "SyntaxError",
     "evalue": "incomplete input (1217251503.py, line 1)",
     "output_type": "error",
     "traceback": [
      "\u001b[1;36m  Cell \u001b[1;32mIn[23], line 1\u001b[1;36m\u001b[0m\n\u001b[1;33m    print(\"hello, python\"\u001b[0m\n\u001b[1;37m                         ^\u001b[0m\n\u001b[1;31mSyntaxError\u001b[0m\u001b[1;31m:\u001b[0m incomplete input\n"
     ]
    }
   ],
   "source": [
    "print(\"hello, python\""
   ]
  },
  {
   "cell_type": "code",
   "execution_count": 24,
   "id": "8cc9c79e",
   "metadata": {},
   "outputs": [
    {
     "name": "stdout",
     "output_type": "stream",
     "text": [
      "inf!\n"
     ]
    }
   ],
   "source": [
    "x = 999\n",
    "y = 0\n",
    "\n",
    "try : \n",
    "    print(x/y)\n",
    "except:\n",
    "    print(\"inf!\")"
   ]
  },
  {
   "cell_type": "code",
   "execution_count": 46,
   "id": "a37a807a",
   "metadata": {},
   "outputs": [
    {
     "data": {
      "text/plain": [
       "'hello 12345python'"
      ]
     },
     "execution_count": 46,
     "metadata": {},
     "output_type": "execute_result"
    }
   ],
   "source": [
    "import re\n",
    "str1 = 'hello 00000python'\n",
    "str1.replace('hello 00000python', 'hello 12345python')\n",
    "\n",
    "\n"
   ]
  },
  {
   "cell_type": "code",
   "execution_count": 48,
   "id": "01e90035",
   "metadata": {},
   "outputs": [
    {
     "data": {
      "text/plain": [
       "'hello~ 789012python'"
      ]
     },
     "execution_count": 48,
     "metadata": {},
     "output_type": "execute_result"
    }
   ],
   "source": [
    "str2 = 'hello~ 123456python'\n",
    "str2.replace(str2, 'hello~ 789012python')"
   ]
  },
  {
   "cell_type": "code",
   "execution_count": 54,
   "id": "6609fff7",
   "metadata": {},
   "outputs": [
    {
     "data": {
      "text/plain": [
       "['123', '456']"
      ]
     },
     "execution_count": 54,
     "metadata": {},
     "output_type": "execute_result"
    }
   ],
   "source": [
    "str3 = 'hello~ 123-456python'\n",
    "re.findall('\\d+', str3)"
   ]
  },
  {
   "cell_type": "code",
   "execution_count": 67,
   "id": "27eb4071",
   "metadata": {},
   "outputs": [
    {
     "name": "stdout",
     "output_type": "stream",
     "text": [
      "파이썬\n",
      "이스케\n",
      "이프문\n",
      "자실습\n"
     ]
    }
   ],
   "source": [
    "print(\"파이썬\\n이스케\\n이프문\\n자실습\")\n"
   ]
  },
  {
   "cell_type": "code",
   "execution_count": null,
   "id": "800b354e",
   "metadata": {},
   "outputs": [],
   "source": [
    "txt = '파이썬오늘은\\t문자열을\\t배웠고,\\t그\\t지식을\\t이용해서\\t문자열\\t수정을\\t해\\t봅시다.\\n파이썬'"
   ]
  },
  {
   "cell_type": "code",
   "execution_count": 10,
   "id": "bf67d064",
   "metadata": {},
   "outputs": [],
   "source": [
    "str0 = \"Hello python\""
   ]
  },
  {
   "cell_type": "code",
   "execution_count": 16,
   "id": "963bd372",
   "metadata": {},
   "outputs": [
    {
     "name": "stdout",
     "output_type": "stream",
     "text": [
      "[1, 2, 3, 4, 5]\n"
     ]
    }
   ],
   "source": [
    "a= [1,2]\n",
    "b = [3,4,5]\n",
    "a.extend(b)\n",
    "print(a)"
   ]
  },
  {
   "cell_type": "code",
   "execution_count": 22,
   "id": "bcc93354",
   "metadata": {},
   "outputs": [
    {
     "name": "stdout",
     "output_type": "stream",
     "text": [
      "[5, 3, 1]\n"
     ]
    }
   ],
   "source": [
    "print(a[::-2])"
   ]
  },
  {
   "cell_type": "code",
   "execution_count": null,
   "id": "d4db8f93",
   "metadata": {},
   "outputs": [],
   "source": []
  }
 ],
 "metadata": {
  "kernelspec": {
   "display_name": "Python 3 (ipykernel)",
   "language": "python",
   "name": "python3"
  },
  "language_info": {
   "codemirror_mode": {
    "name": "ipython",
    "version": 3
   },
   "file_extension": ".py",
   "mimetype": "text/x-python",
   "name": "python",
   "nbconvert_exporter": "python",
   "pygments_lexer": "ipython3",
   "version": "3.11.4"
  }
 },
 "nbformat": 4,
 "nbformat_minor": 5
}
